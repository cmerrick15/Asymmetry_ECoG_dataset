{
 "cells": [
  {
   "cell_type": "code",
   "execution_count": 5,
   "metadata": {},
   "outputs": [
    {
     "name": "stderr",
     "output_type": "stream",
     "text": [
      "/Users/christinamerrick/anaconda2/lib/python2.7/site-packages/h5py/__init__.py:36: FutureWarning: Conversion of the second argument of issubdtype from `float` to `np.floating` is deprecated. In future, it will be treated as `np.float64 == np.dtype(float).type`.\n",
      "  from ._conv import register_converters as _register_converters\n"
     ]
    }
   ],
   "source": [
    "import pandas as pd\n",
    "import numpy as np\n",
    "import seaborn as sns\n",
    "import h5py\n",
    "import matplotlib.pyplot as plt\n",
    "from scipy import signal\n",
    "from scipy.stats.stats import pearsonr\n",
    "from scipy.stats import zscore\n",
    "from matplotlib.pyplot import imshow\n",
    "import os\n",
    "import seaborn as sns\n",
    "from scipy import io\n",
    "%matplotlib inline\n",
    "np.set_printoptions(precision=4, suppress=True)\n"
   ]
  },
  {
   "cell_type": "code",
   "execution_count": 6,
   "metadata": {},
   "outputs": [],
   "source": [
    "def columnwise_correlation(ypred, y, zscorea=True, zscoreb=True, axis=0):\n",
    "    r'''Compute correlations efficiently\n",
    "    Examples\n",
    "    --------\n",
    "    >>> x = np.random.randn(100,2)\n",
    "    >>> y = np.random.randn(100,2)\n",
    "    >>> cc = columnwise_correlation(x, y)\n",
    "    >>> cc.shape\n",
    "    (2,)\n",
    "    >>> c1 = np.corrcoef(x[:,0], y[:,0])[0,1]\n",
    "    >>> c2 = np.corrcoef(x[:,1], y[:,1])[0,1]\n",
    "    >>> assert np.allclose(cc, np.r_[c1, c2])\n",
    "    Notes\n",
    "    -----\n",
    "    Recall that the correlation cofficient is defined as\n",
    "    .. math::\n",
    "       \\rho_{x, y} = \\frac{cov(X,Y)}{var(x)var(y)}\n",
    "    Since it is scale invariant, we can zscore and get the same\n",
    "    .. math::\n",
    "       \\rho_{x, y} = \\rho_{zscore(x), zscore(y)} = \\frac{cov(X,Y)}{1*1} =\n",
    "       \\frac{1}{N}\\frac{\\sum_i^n \\left(x_i - 0 \\right) \\left(y_i - 0 \\right)}{1*1} =\n",
    "       \\frac{1}{N}\\sum_i^n \\left(x_i * y_i \\right)\n",
    "    '''\n",
    "    if zscorea:\n",
    "        y = zscore(y, axis=axis)\n",
    "    if zscoreb:\n",
    "        ypred = zscore(ypred, axis=axis)\n",
    "    corr = (y * ypred).mean(axis=axis)\n",
    "    return corr"
   ]
  },
  {
   "cell_type": "code",
   "execution_count": 7,
   "metadata": {},
   "outputs": [],
   "source": [
    "def cpickle_load(flname, field=None):\n",
    "    '''\n",
    "    Load a pickle storing a dictioanry of data\n",
    "    '''\n",
    "    import cPickle\n",
    "    with open(flname, 'r') as fl:\n",
    "        data = cPickle.load(fl)\n",
    "        if isinstance(data, list):\n",
    "            pass\n",
    "        elif len(data.keys()) == 1:\n",
    "            data = data[data.keys()[0]]\n",
    "        elif field is not None:\n",
    "            data = data[field]\n",
    "    return data\n"
   ]
  },
  {
   "cell_type": "code",
   "execution_count": 8,
   "metadata": {},
   "outputs": [],
   "source": [
    "def cpickle_dump(flname, datadict):\n",
    "    '''\n",
    "    Dump a dictionary containing some datas into a pickle file\n",
    "    '''\n",
    "    import cPickle\n",
    "    assert isinstance(datadict, dict)\n",
    "    print 'Saving %s...' % flname\n",
    "    fl = open(flname, 'w')\n",
    "    cPickle.dump(datadict, fl)\n",
    "    fl.close()\n",
    "    return"
   ]
  },
  {
   "cell_type": "code",
   "execution_count": 13,
   "metadata": {},
   "outputs": [
    {
     "ename": "IOError",
     "evalue": "Unable to open file (unable to open file: name = '/home/knight/cmerrick/notebooks_regression/mat_files/L1/hfb_z.mat', errno = 2, error message = 'No such file or directory', flags = 0, o_flags = 0)",
     "output_type": "error",
     "traceback": [
      "\u001b[0;31m---------------------------------------------------------------------------\u001b[0m",
      "\u001b[0;31mIOError\u001b[0m                                   Traceback (most recent call last)",
      "\u001b[0;32m<ipython-input-13-723a11472c99>\u001b[0m in \u001b[0;36m<module>\u001b[0;34m()\u001b[0m\n\u001b[1;32m      7\u001b[0m \u001b[0mneural_mat\u001b[0m \u001b[0;34m=\u001b[0m \u001b[0;34m{\u001b[0m\u001b[0;34m}\u001b[0m\u001b[0;34m\u001b[0m\u001b[0m\n\u001b[1;32m      8\u001b[0m \u001b[0;34m\u001b[0m\u001b[0m\n\u001b[0;32m----> 9\u001b[0;31m \u001b[0;32mwith\u001b[0m \u001b[0mh5py\u001b[0m\u001b[0;34m.\u001b[0m\u001b[0mFile\u001b[0m\u001b[0;34m(\u001b[0m\u001b[0mfilepath\u001b[0m\u001b[0;34m,\u001b[0m\u001b[0;34m'r'\u001b[0m\u001b[0;34m)\u001b[0m \u001b[0;32mas\u001b[0m \u001b[0mf\u001b[0m\u001b[0;34m:\u001b[0m\u001b[0;34m\u001b[0m\u001b[0m\n\u001b[0m\u001b[1;32m     10\u001b[0m     \u001b[0;32mfor\u001b[0m \u001b[0mk\u001b[0m\u001b[0;34m,\u001b[0m \u001b[0mv\u001b[0m \u001b[0;32min\u001b[0m \u001b[0mf\u001b[0m\u001b[0;34m.\u001b[0m\u001b[0mitems\u001b[0m\u001b[0;34m(\u001b[0m\u001b[0;34m)\u001b[0m\u001b[0;34m:\u001b[0m\u001b[0;34m\u001b[0m\u001b[0m\n\u001b[1;32m     11\u001b[0m         \u001b[0mneural_mat\u001b[0m\u001b[0;34m[\u001b[0m\u001b[0mk\u001b[0m\u001b[0;34m]\u001b[0m \u001b[0;34m=\u001b[0m \u001b[0mnp\u001b[0m\u001b[0;34m.\u001b[0m\u001b[0marray\u001b[0m\u001b[0;34m(\u001b[0m\u001b[0mv\u001b[0m\u001b[0;34m,\u001b[0m \u001b[0mdtype\u001b[0m \u001b[0;34m=\u001b[0m \u001b[0mnp\u001b[0m\u001b[0;34m.\u001b[0m\u001b[0mfloat32\u001b[0m\u001b[0;34m)\u001b[0m\u001b[0;34m\u001b[0m\u001b[0m\n",
      "\u001b[0;32m/Users/christinamerrick/anaconda2/lib/python2.7/site-packages/h5py/_hl/files.pyc\u001b[0m in \u001b[0;36m__init__\u001b[0;34m(self, name, mode, driver, libver, userblock_size, swmr, **kwds)\u001b[0m\n\u001b[1;32m    267\u001b[0m             \u001b[0;32mwith\u001b[0m \u001b[0mphil\u001b[0m\u001b[0;34m:\u001b[0m\u001b[0;34m\u001b[0m\u001b[0m\n\u001b[1;32m    268\u001b[0m                 \u001b[0mfapl\u001b[0m \u001b[0;34m=\u001b[0m \u001b[0mmake_fapl\u001b[0m\u001b[0;34m(\u001b[0m\u001b[0mdriver\u001b[0m\u001b[0;34m,\u001b[0m \u001b[0mlibver\u001b[0m\u001b[0;34m,\u001b[0m \u001b[0;34m**\u001b[0m\u001b[0mkwds\u001b[0m\u001b[0;34m)\u001b[0m\u001b[0;34m\u001b[0m\u001b[0m\n\u001b[0;32m--> 269\u001b[0;31m                 \u001b[0mfid\u001b[0m \u001b[0;34m=\u001b[0m \u001b[0mmake_fid\u001b[0m\u001b[0;34m(\u001b[0m\u001b[0mname\u001b[0m\u001b[0;34m,\u001b[0m \u001b[0mmode\u001b[0m\u001b[0;34m,\u001b[0m \u001b[0muserblock_size\u001b[0m\u001b[0;34m,\u001b[0m \u001b[0mfapl\u001b[0m\u001b[0;34m,\u001b[0m \u001b[0mswmr\u001b[0m\u001b[0;34m=\u001b[0m\u001b[0mswmr\u001b[0m\u001b[0;34m)\u001b[0m\u001b[0;34m\u001b[0m\u001b[0m\n\u001b[0m\u001b[1;32m    270\u001b[0m \u001b[0;34m\u001b[0m\u001b[0m\n\u001b[1;32m    271\u001b[0m                 \u001b[0;32mif\u001b[0m \u001b[0mswmr_support\u001b[0m\u001b[0;34m:\u001b[0m\u001b[0;34m\u001b[0m\u001b[0m\n",
      "\u001b[0;32m/Users/christinamerrick/anaconda2/lib/python2.7/site-packages/h5py/_hl/files.pyc\u001b[0m in \u001b[0;36mmake_fid\u001b[0;34m(name, mode, userblock_size, fapl, fcpl, swmr)\u001b[0m\n\u001b[1;32m     97\u001b[0m         \u001b[0;32mif\u001b[0m \u001b[0mswmr\u001b[0m \u001b[0;32mand\u001b[0m \u001b[0mswmr_support\u001b[0m\u001b[0;34m:\u001b[0m\u001b[0;34m\u001b[0m\u001b[0m\n\u001b[1;32m     98\u001b[0m             \u001b[0mflags\u001b[0m \u001b[0;34m|=\u001b[0m \u001b[0mh5f\u001b[0m\u001b[0;34m.\u001b[0m\u001b[0mACC_SWMR_READ\u001b[0m\u001b[0;34m\u001b[0m\u001b[0m\n\u001b[0;32m---> 99\u001b[0;31m         \u001b[0mfid\u001b[0m \u001b[0;34m=\u001b[0m \u001b[0mh5f\u001b[0m\u001b[0;34m.\u001b[0m\u001b[0mopen\u001b[0m\u001b[0;34m(\u001b[0m\u001b[0mname\u001b[0m\u001b[0;34m,\u001b[0m \u001b[0mflags\u001b[0m\u001b[0;34m,\u001b[0m \u001b[0mfapl\u001b[0m\u001b[0;34m=\u001b[0m\u001b[0mfapl\u001b[0m\u001b[0;34m)\u001b[0m\u001b[0;34m\u001b[0m\u001b[0m\n\u001b[0m\u001b[1;32m    100\u001b[0m     \u001b[0;32melif\u001b[0m \u001b[0mmode\u001b[0m \u001b[0;34m==\u001b[0m \u001b[0;34m'r+'\u001b[0m\u001b[0;34m:\u001b[0m\u001b[0;34m\u001b[0m\u001b[0m\n\u001b[1;32m    101\u001b[0m         \u001b[0mfid\u001b[0m \u001b[0;34m=\u001b[0m \u001b[0mh5f\u001b[0m\u001b[0;34m.\u001b[0m\u001b[0mopen\u001b[0m\u001b[0;34m(\u001b[0m\u001b[0mname\u001b[0m\u001b[0;34m,\u001b[0m \u001b[0mh5f\u001b[0m\u001b[0;34m.\u001b[0m\u001b[0mACC_RDWR\u001b[0m\u001b[0;34m,\u001b[0m \u001b[0mfapl\u001b[0m\u001b[0;34m=\u001b[0m\u001b[0mfapl\u001b[0m\u001b[0;34m)\u001b[0m\u001b[0;34m\u001b[0m\u001b[0m\n",
      "\u001b[0;32mh5py/_objects.pyx\u001b[0m in \u001b[0;36mh5py._objects.with_phil.wrapper\u001b[0;34m()\u001b[0m\n",
      "\u001b[0;32mh5py/_objects.pyx\u001b[0m in \u001b[0;36mh5py._objects.with_phil.wrapper\u001b[0;34m()\u001b[0m\n",
      "\u001b[0;32mh5py/h5f.pyx\u001b[0m in \u001b[0;36mh5py.h5f.open\u001b[0;34m()\u001b[0m\n",
      "\u001b[0;31mIOError\u001b[0m: Unable to open file (unable to open file: name = '/home/knight/cmerrick/notebooks_regression/mat_files/L1/hfb_z.mat', errno = 2, error message = 'No such file or directory', flags = 0, o_flags = 0)"
     ]
    }
   ],
   "source": [
    "# Load in neural features\n",
    "\n",
    "pat_id = 'L1'\n",
    "\n",
    "# change directory to locate hfb for specified patient \n",
    "filepath = '/home/knight/cmerrick/notebooks_regression/mat_files/{}/hfb_z.mat'.format(pat_id)\n",
    "neural_mat = {}\n",
    "\n",
    "with h5py.File(filepath,'r') as f:\n",
    "    for k, v in f.items():\n",
    "        neural_mat[k] = np.array(v, dtype = np.float32)\n",
    "\n",
    "\n",
    "hfb = neural_mat['hfb_lp']\n",
    "\n",
    "hfb = hfb.T"
   ]
  },
  {
   "cell_type": "code",
   "execution_count": null,
   "metadata": {},
   "outputs": [],
   "source": [
    "# load reconstructed kinematics \n",
    "filepath = '/home/knight/cmerrick/notebooks_regression/mat_files/{}/total_kin.mat'\n",
    "clean_move = {}\n",
    "f = h5py.File(filepath,'r')\n",
    "for k, v in f.items():\n",
    "    clean_move[k] = np.array(v)"
   ]
  },
  {
   "cell_type": "code",
   "execution_count": null,
   "metadata": {},
   "outputs": [],
   "source": [
    "clean_move = np.squeeze(clean_move['total_kin_mat'])"
   ]
  },
  {
   "cell_type": "code",
   "execution_count": null,
   "metadata": {},
   "outputs": [],
   "source": [
    "## adding time lags to the kinematic data : 200 lags before movement onset and 200 lags after\n",
    "num_kin_lags = 400\n",
    "num_kin_feat = 7\n",
    "num_samples = clean_move.shape[0]\n",
    "\n",
    "kin_lags = np.zeros((num_kin_feat,num_kin_lags,num_samples))\n",
    "clean_move_padded = np.vstack([np.zeros([200,7]),clean_move[:-200,:]])\n",
    "\n",
    "for kin_feat in range(num_kin_feat):\n",
    "    for lag in range(num_kin_lags):\n",
    "        print lag\n",
    "        kin_lags[kin_feat,lag,:] = np.hstack([clean_move_padded[400-lag:,kin_feat],np.zeros(400-lag)])\n"
   ]
  },
  {
   "cell_type": "code",
   "execution_count": 183,
   "metadata": {},
   "outputs": [],
   "source": [
    "# reshape kinematic features\n",
    "# resulting matrix = time X all time-lagged features (800)\n",
    "\n",
    "kin_feat = np.reshape(kin_lags,(kin_lags.shape[0]*kin_lags.shape[1],kin_lags.shape[2]))\n",
    "kin_feat = kin_feat.T"
   ]
  },
  {
   "cell_type": "code",
   "execution_count": 90,
   "metadata": {},
   "outputs": [
    {
     "data": {
      "text/plain": [
       "(154651, 800)"
      ]
     },
     "execution_count": 90,
     "metadata": {},
     "output_type": "execute_result"
    }
   ],
   "source": [
    "kin_feat.shape"
   ]
  },
  {
   "cell_type": "code",
   "execution_count": 14,
   "metadata": {},
   "outputs": [],
   "source": [
    "# Getting the right indcies for ipsi and contra arm\n",
    "\n",
    "if pat_id == 'L1':\n",
    "    \n",
    "    ipsi_ind = range(0,57117)\n",
    "    contra_ind = np.hstack(range(57117,114409))\n",
    "    \n",
    "elif pat_id == 'L2':\n",
    "    ipsi_ind = np.hstack((range(5000,37000), range(37000,55000),range(58000,69685)))\n",
    "    contra_ind = np.hstack((range(72800,101000), range(115800,147397)))\n",
    "    \n",
    "elif pat_id == 'L3':\n",
    "    ipsi_ind = range(0,67138)\n",
    "    contra_ind = range(67139,133084)\n",
    "\n",
    "elif pat_id == 'R4':\n",
    "    ipsi_ind = np.hstack(range(63831,127331)) \n",
    "    contra_ind = range(0,63500)\n",
    "    \n",
    "elif pat_id == 'R5':\n",
    "    ipsi_ind = np.hstack((range(79900,110000),range(115000,140157)))\n",
    "    contra_ind = np.hstack((range(5000,32000),range(37000,72000)))  \n",
    "    \n",
    "elif pat_id == 'R6':\n",
    "    contra_ind = np.hstack((range(500,23000),range(26000,49700))) \n",
    "    ipsi_ind = np.hstack((range(51500,72500),range(75500,78000),range(79000,99500))) \n"
   ]
  },
  {
   "cell_type": "code",
   "execution_count": 188,
   "metadata": {},
   "outputs": [],
   "source": [
    "crosscorr = np.dot(zscore(kin_feat).T, zscore(kin_feat))/kin_feat.shape[0]"
   ]
  },
  {
   "cell_type": "code",
   "execution_count": 189,
   "metadata": {
    "scrolled": true
   },
   "outputs": [
    {
     "data": {
      "text/plain": [
       "<matplotlib.colorbar.Colorbar at 0x7fbb03ccdfd0>"
      ]
     },
     "execution_count": 189,
     "metadata": {},
     "output_type": "execute_result"
    },
    {
     "data": {
      "image/png": "[encoded data removed]",
      "text/plain": [
       "<Figure size 288x288 with 2 Axes>"
      ]
     },
     "metadata": {},
     "output_type": "display_data"
    }
   ],
   "source": [
    "plt.matshow((crosscorr),\n",
    "            vmin=-1, vmax=1, cmap='coolwarm')\n",
    "plt.colorbar()"
   ]
  },
  {
   "cell_type": "code",
   "execution_count": 175,
   "metadata": {},
   "outputs": [],
   "source": [
    "neural_feat = hfb"
   ]
  },
  {
   "cell_type": "code",
   "execution_count": 177,
   "metadata": {},
   "outputs": [
    {
     "name": "stdout",
     "output_type": "stream",
     "text": [
      "(154651, 800)\n",
      "(154651, 87)\n"
     ]
    }
   ],
   "source": [
    "print kin_feat.shape\n",
    "print neural_feat.shape"
   ]
  },
  {
   "cell_type": "code",
   "execution_count": 190,
   "metadata": {},
   "outputs": [],
   "source": [
    "## for testing ipsi and contra within hand ##\n",
    "\n",
    "# lamdbas for ridge \n",
    "l = np.logspace(0,8, num = 20)\n",
    "num_elec = neural_feat.shape[1]\n",
    "num_hands = 2\n",
    "\n",
    "# number of mutually exclusive test sets (each comprising of 20% of the data)\n",
    "num_test_set = 5\n",
    "test_set_run = [[0,1,2,3,4],[1,2,3,4,0],[2,3,4,0,1],[3,4,0,1,2],[4,0,1,2,3]]\n",
    "\n",
    "# number of mutually exclusive validation sets within the estimation set (80% training, 20% validation)\n",
    "num_val_fold = 5\n",
    "val_fold_run = [[0,1,2,3,4],[1,2,3,4,0],[2,3,4,0,1],[3,4,0,1,2],[4,0,1,2,3]]\n",
    "\n",
    "### correlation coefficient across folds and test sets ###\n",
    "cc_test = np.zeros((num_hands,num_test_set,num_elec))\n",
    "\n",
    "## to hold prediction test sets\n",
    "prediction_test = {}\n",
    "ecog_test = {}\n",
    "feat_test = {}\n",
    "feat_test_angle = {}\n",
    "weights_reg = {}\n",
    "\n",
    "\n",
    "for hand in range(num_hands):\n",
    "\n",
    "    # init \n",
    "    neural_mat = []\n",
    "    kin_mat = []\n",
    "    cc_val = np.zeros((num_test_set,num_val_fold,len(l),num_elec))\n",
    "\n",
    "    if hand == 0:\n",
    "\n",
    "        neural_mat = neural_feat[ipsi_ind,:]\n",
    "        kin_mat = kin_feat[ipsi_ind,:]\n",
    "\n",
    "    elif hand == 1:\n",
    "\n",
    "        neural_mat = neural_feat[contra_ind,:]\n",
    "        kin_mat = kin_feat[contra_ind,:]\n",
    "\n",
    "\n",
    "    #### CREATING TEST SET ####\n",
    "    for test_set in range(num_test_set):\n",
    "\n",
    "        test_run = test_set_run[test_set]\n",
    "\n",
    "        split_data_feat = np.array_split(kin_mat, num_test_set)\n",
    "        split_data_ecog = np.array_split(neural_mat, num_test_set)\n",
    "\n",
    "        ### for features/kinematics ###\n",
    "\n",
    "        estimate_temp_f = []\n",
    "        for ind in range(num_test_set-1):\n",
    "            estimate_temp_f.extend(split_data_feat[test_run[ind]])\n",
    "\n",
    "        test_temp_f = []\n",
    "        test_temp_f.extend(split_data_feat[test_run[4]])\n",
    "\n",
    "        estimate_feat = np.squeeze(estimate_temp_f)\n",
    "        test_feat = np.squeeze(test_temp_f)\n",
    "\n",
    "        ### for ecog ###\n",
    "\n",
    "        estimate_temp_e = []\n",
    "        for ind in range(num_test_set-1):\n",
    "            estimate_temp_e.extend(split_data_ecog[test_run[ind]])\n",
    "\n",
    "        test_temp_e = []\n",
    "        test_temp_e.extend(split_data_ecog[test_run[4]])\n",
    "\n",
    "        estimate_ecog = np.squeeze(estimate_temp_e)\n",
    "        test_ecog = np.squeeze(test_temp_e)\n",
    "\n",
    "\n",
    "        #### CREATING VALIDATION FOLD ####\n",
    "        for fold in range(num_val_fold):\n",
    "\n",
    "            val_fold = val_fold_run[fold]\n",
    "\n",
    "            estimate_split_feat = np.array_split(estimate_feat, num_val_fold)\n",
    "            estimate_split_ecog = np.array_split(estimate_ecog, num_val_fold)\n",
    "\n",
    "            ### for features/kinematics ###\n",
    "\n",
    "            train_temp_f = []\n",
    "            for ind in range(num_val_fold-1):\n",
    "                train_temp_f.extend(estimate_split_feat[val_fold[ind]])\n",
    "\n",
    "            val_temp_f = []\n",
    "            val_temp_f.extend(estimate_split_feat[val_fold[4]])\n",
    "\n",
    "            train_feat = np.squeeze(train_temp_f)\n",
    "            val_feat = np.squeeze(val_temp_f)\n",
    "\n",
    "            ### for ecog ###\n",
    "\n",
    "            train_temp_e = []\n",
    "            for ind in range(num_val_fold-1):\n",
    "                train_temp_e.extend(estimate_split_ecog[val_fold[ind]])\n",
    "\n",
    "            val_temp_e = []\n",
    "            val_temp_e.extend(estimate_split_ecog[val_fold[4]])\n",
    "\n",
    "            train_ecog = np.squeeze(train_temp_e)\n",
    "            val_ecog = np.squeeze(val_temp_e)\n",
    "\n",
    "\n",
    "            # doing all computation we can outside lambda loop # \n",
    "            XTX = np.dot(train_feat.T,train_feat)\n",
    "            XTY = np.dot(train_feat.T,train_ecog)\n",
    "\n",
    "            #### ridge regression ####\n",
    "\n",
    "            # finding best lambda for each validation set\n",
    "            for param in range(len(l)):\n",
    "                XTXinv = np.linalg.inv(XTX +l[param]*np.identity(XTX.shape[0]))\n",
    "                weights = np.dot(XTXinv,XTY)\n",
    "\n",
    "                # create the prediction for the validation set\n",
    "                # init\n",
    "                num_timepnts = val_ecog.shape[0]\n",
    "                num_elec = val_ecog.shape[1]\n",
    "                prediction = np.zeros([num_timepnts])\n",
    "\n",
    "                # record correlation from prediction set\n",
    "                prediction = np.dot(val_feat,weights)\n",
    "                mask = prediction[:,0] != 0\n",
    "                cc_val[test_set,fold,param,:] = columnwise_correlation(prediction[mask,:],val_ecog[mask,:], zscorea=True, zscoreb=True, axis=0)\n",
    "\n",
    "\n",
    "        # using best lambda to predict held-out test set\n",
    "        for elec in range(test_ecog.shape[1]):\n",
    "\n",
    "            max_corr = np.max(np.mean(cc_val[test_set,:,:,elec],0))\n",
    "\n",
    "            best_lambda = np.squeeze(np.where(np.mean(cc_val[test_set,:,:,elec],0) == max_corr))\n",
    "\n",
    "\n",
    "            XTXinv = np.linalg.inv(XTX + l[best_lambda]*np.identity(XTX.shape[0]))\n",
    "            weights_reg[hand,test_set,elec] = np.dot(XTXinv,XTY[:,elec])\n",
    "\n",
    "            # create the prediction for the test set\n",
    "            prediction_test[hand,test_set,elec] = np.squeeze(np.sum([test_feat*weights_reg[hand,test_set,elec]],axis = 2))\n",
    "            ecog_test[hand,test_set,elec] = test_ecog[:,elec]\n",
    "\n",
    "            # record correlation from prediction set\n",
    "            mask = prediction_test[hand,test_set,elec] != 0\n",
    "            cc_test[hand,test_set,elec] = columnwise_correlation(prediction_test[hand,test_set,elec][mask],ecog_test[hand,test_set,elec][mask], zscorea=True, zscoreb=True, axis=0) \n"
   ]
  },
  {
   "cell_type": "code",
   "execution_count": 200,
   "metadata": {},
   "outputs": [],
   "source": [
    "## for testing ipsi and contra across hands ##\n",
    "    # specifically training on ipsi and testing on contra #\n",
    "\n",
    "num_elec = neural_feat.shape[1]\n",
    "\n",
    "# number of mutually exclusive test sets (each comprising of 20% of the data)\n",
    "num_test_set = 5\n",
    "test_set_run = [[0,1,2,3,4],[1,2,3,4,0],[2,3,4,0,1],[3,4,0,1,2],[4,0,1,2,3]]\n",
    "\n",
    "### correlation coefficient across folds and test sets ###\n",
    "cc_test_gen = np.zeros((num_test_set,num_elec))\n",
    "\n",
    "## to hold prediction test sets\n",
    "prediction_test_gen = {}\n",
    "ecog_test_gen = {}\n",
    "\n",
    "# init \n",
    "neural_mat = []\n",
    "kin_mat = []\n",
    "\n",
    "# getting data when contra hand is moving\n",
    "neural_mat = neural_feat[contra_ind,:]\n",
    "kin_mat = kin_feat[contra_ind,:]\n",
    "\n",
    "\n",
    "#### CREATING TEST SET ####\n",
    "for test_set in range(num_test_set):\n",
    "\n",
    "    test_run = test_set_run[test_set]\n",
    "    split_data_ecog = np.array_split(neural_mat, num_test_set)\n",
    "    split_data_feat = np.array_split(kin_mat, num_test_set)\n",
    "\n",
    "    ### for features/kinematics ###\n",
    "    test_temp_f = []\n",
    "    test_temp_f.extend(split_data_feat[test_run[4]])\n",
    "\n",
    "    test_feat = np.squeeze(test_temp_f)\n",
    "\n",
    "    ### for ecog ###\n",
    "    test_temp_e = []\n",
    "    test_temp_e.extend(split_data_ecog[test_run[4]])\n",
    "\n",
    "    test_ecog = np.squeeze(test_temp_e)\n",
    "\n",
    "\n",
    "   # using previously saved ipsi weights to predict contra\n",
    "    for elec in range(test_ecog.shape[1]):\n",
    "\n",
    "        # loading the weights \n",
    "        weights = weights_reg[0,test_set,elec]\n",
    "\n",
    "        # create the prediction for the test set\n",
    "        prediction_test_gen[test_set,elec] = np.squeeze(np.sum([test_feat*weights],axis = 2))\n",
    "        ecog_test_gen[test_set,elec] = test_ecog[:,elec]\n",
    "\n",
    "        # record correlation from prediction set\n",
    "        mask = prediction_test_gen[test_set,elec] != 0\n",
    "        cc_test_gen[test_set,elec] = columnwise_correlation(prediction_test_gen[test_set,elec][mask],test_ecog[mask,elec], zscorea=True, zscoreb=True, axis=0)\n",
    "\n"
   ]
  },
  {
   "cell_type": "code",
   "execution_count": 202,
   "metadata": {},
   "outputs": [],
   "source": [
    "## for testing ipsi and contra across hands ##\n",
    "    # specifically training on contra and testing on ipsi #\n",
    "\n",
    "num_elec = neural_feat.shape[1]\n",
    "\n",
    "# number of mutually exclusive test sets (each comprising of 20% of the data)\n",
    "num_test_set = 5\n",
    "test_set_run = [[0,1,2,3,4],[1,2,3,4,0],[2,3,4,0,1],[3,4,0,1,2],[4,0,1,2,3]]\n",
    "\n",
    "### correlation coefficient across folds and test sets ###\n",
    "cc_test_gen_2 = np.zeros((num_test_set,num_elec))\n",
    "\n",
    "## to hold prediction test sets\n",
    "prediction_test_gen_2 = {}\n",
    "ecog_test_gen_2 = {}\n",
    "\n",
    "\n",
    "# init \n",
    "neural_mat = []\n",
    "kin_mat = []\n",
    "\n",
    "# getting data when contra hand is moving\n",
    "neural_mat = neural_feat[ipsi_ind,:]\n",
    "kin_mat = kin_feat[ipsi_ind,:]\n",
    "\n",
    "\n",
    "#### CREATING TEST SET ####\n",
    "for test_set in range(num_test_set):\n",
    "\n",
    "    test_run = test_set_run[test_set]\n",
    "    split_data_ecog = np.array_split(neural_mat, num_test_set)\n",
    "    split_data_feat = np.array_split(kin_mat, num_test_set)\n",
    "\n",
    "    ### for features/kinematics ###\n",
    "    test_temp_f = []\n",
    "    test_temp_f.extend(split_data_feat[test_run[4]])\n",
    "\n",
    "    test_feat = np.squeeze(test_temp_f)\n",
    "\n",
    "    ### for ecog ###\n",
    "    test_temp_e = []\n",
    "    test_temp_e.extend(split_data_ecog[test_run[4]])\n",
    "\n",
    "    test_ecog = np.squeeze(test_temp_e)\n",
    "\n",
    "\n",
    "   # using previously saved ipsi weights to predict contra\n",
    "    for elec in range(test_ecog.shape[1]):\n",
    "\n",
    "        # loading the weights (for contra hand)\n",
    "        weights = weights_reg[1,test_set,elec]\n",
    "\n",
    "        # create the prediction for the test set\n",
    "        prediction_test_gen_2[test_set,elec] = np.squeeze(np.sum([test_feat*weights],axis = 2))\n",
    "        ecog_test_gen_2[test_set,elec] = test_ecog[:,elec]\n",
    "\n",
    "        # record correlation from prediction set\n",
    "        mask = prediction_test_gen_2[test_set,elec] != 0\n",
    "        cc_test_gen_2[test_set,elec] = columnwise_correlation(prediction_test_gen_2[test_set,elec][mask],ecog_test_gen_2[test_set,elec][mask], zscorea=True, zscoreb=True, axis=0)\n",
    "\n",
    "            \n"
   ]
  },
  {
   "cell_type": "code",
   "execution_count": 204,
   "metadata": {},
   "outputs": [],
   "source": [
    "## putting all test sets together for hfb ##\n",
    "num_elec = neural_feat.shape[1]\n",
    "num_test_set = 5\n",
    "num_hand = 2\n",
    "avg_cc = np.zeros((num_hand,num_test_set,num_elec))\n",
    "\n",
    "for hand in range(num_hand):        \n",
    "        for test_set in range(num_test_set):\n",
    "\n",
    "            for elec in range(num_elec):\n",
    "\n",
    "                avg_cc[hand,test_set,elec] = cc_test[hand,test_set,elec]"
   ]
  },
  {
   "cell_type": "code",
   "execution_count": 205,
   "metadata": {},
   "outputs": [
    {
     "name": "stdout",
     "output_type": "stream",
     "text": [
      "Saving pz_sp_theta_phi...\n"
     ]
    }
   ],
   "source": [
    "## Make dictionary to save our vars ##\n",
    "os.chdir('/home/knight/cmerrick/notebooks_regression/model_outputs_kin/{}'.format(pat_id))\n",
    "\n",
    "kin_dict = {}\n",
    "\n",
    "kin_dict = {'prediction_test_gen':prediction_test_gen, 'prediction_test_gen_2':prediction_test_gen_2,\n",
    "            'cc_test_gen':cc_test_gen, 'cc_test_gen_2':cc_test_gen_2, 'cc_test':cc_test, \n",
    "            'ecog_test':ecog_test, 'prediction_test':prediction_test,'feat_test':feat_test}\n",
    "\n",
    "kin_file_name = 'full_encoding_model'\n",
    "cpickle_dump(kin_file_name, kin_dict)"
   ]
  }
 ],
 "metadata": {
  "kernelspec": {
   "display_name": "Python 2",
   "language": "python",
   "name": "python2"
  },
  "language_info": {
   "codemirror_mode": {
    "name": "ipython",
    "version": 2
   },
   "file_extension": ".py",
   "mimetype": "text/x-python",
   "name": "python",
   "nbconvert_exporter": "python",
   "pygments_lexer": "ipython2",
   "version": "2.7.15"
  }
 },
 "nbformat": 4,
 "nbformat_minor": 2
}
